{
  "cells": [
    {
      "cell_type": "markdown",
      "metadata": {
        "id": "view-in-github",
        "colab_type": "text"
      },
      "source": [
        "<a href=\"https://colab.research.google.com/github/EliRub1/Introduction-to-Cloud-Computing/blob/main/ItCC_Tut3.ipynb\" target=\"_parent\"><img src=\"https://colab.research.google.com/assets/colab-badge.svg\" alt=\"Open In Colab\"/></a>"
      ]
    },
    {
      "cell_type": "code",
      "execution_count": null,
      "metadata": {
        "id": "7Z_X7ITZpq7K"
      },
      "outputs": [],
      "source": [
        "pip install paho-mqtt"
      ]
    },
    {
      "cell_type": "code",
      "execution_count": null,
      "metadata": {
        "colab": {
          "background_save": true
        },
        "id": "C3be9HzCp0Ul"
      },
      "outputs": [],
      "source": [
        "import paho.mqtt.client as mqtt\n",
        "import json\n",
        "\n",
        "# Callback function for when a message is received\n",
        "def on_message(client, userdata, msg):\n",
        "    try:\n",
        "        data = json.loads(msg.payload.decode())\n",
        "\n",
        "        # Extract values with lowercase field names\n",
        "        temperature = data.get(\"Temperature\", \"N/A\")\n",
        "        humidity = data.get(\"Humidity\", \"N/A\")\n",
        "        pressure = data.get(\"Pressure\", \"N/A\")\n",
        "\n",
        "        print(f\"Temperature: {temperature}°C, Humidity: {humidity}%, Pressure: {pressure} hPa\")\n",
        "\n",
        "    except json.JSONDecodeError:\n",
        "        print(\"Received invalid JSON data\")\n",
        "\n",
        "# MQTT setup\n",
        "broker = \"test.mosquitto.org\"\n",
        "topic = \"braude/D106/jdata\"\n",
        "\n",
        "client = mqtt.Client()\n",
        "client.on_message = on_message\n",
        "\n",
        "client.connect(broker, 1883, 60)\n",
        "client.subscribe(topic)\n",
        "\n",
        "print(f\"Subscribed to MQTT topic: {topic}\")\n",
        "client.loop_forever()\n"
      ]
    }
  ],
  "metadata": {
    "colab": {
      "provenance": [],
      "authorship_tag": "ABX9TyNAVm8cNT8gZmsomTduRJP8",
      "include_colab_link": true
    },
    "kernelspec": {
      "display_name": "Python 3",
      "name": "python3"
    },
    "language_info": {
      "name": "python"
    }
  },
  "nbformat": 4,
  "nbformat_minor": 0
}