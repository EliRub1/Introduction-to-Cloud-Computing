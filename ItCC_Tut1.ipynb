{
  "nbformat": 4,
  "nbformat_minor": 0,
  "metadata": {
    "colab": {
      "provenance": [],
      "authorship_tag": "ABX9TyO4MA//9eLzlrB6+vqCTrrz",
      "include_colab_link": true
    },
    "kernelspec": {
      "name": "python3",
      "display_name": "Python 3"
    },
    "language_info": {
      "name": "python"
    }
  },
  "cells": [
    {
      "cell_type": "markdown",
      "metadata": {
        "id": "view-in-github",
        "colab_type": "text"
      },
      "source": [
        "<a href=\"https://colab.research.google.com/github/EliRub1/Introduction-to-Cloud-Computing/blob/main/ItCC_Tut1.ipynb\" target=\"_parent\"><img src=\"https://colab.research.google.com/assets/colab-badge.svg\" alt=\"Open In Colab\"/></a>"
      ]
    },
    {
      "cell_type": "code",
      "source": [
        "print(\"Hello world\")"
      ],
      "metadata": {
        "id": "1lcnuiHFqK97"
      },
      "execution_count": null,
      "outputs": []
    },
    {
      "cell_type": "code",
      "source": [
        "!pip install numpy"
      ],
      "metadata": {
        "id": "qXfGR_WeqWd5"
      },
      "execution_count": null,
      "outputs": []
    },
    {
      "cell_type": "code",
      "execution_count": null,
      "metadata": {
        "id": "Y8IY2YVnnF86"
      },
      "outputs": [],
      "source": [
        "import time\n",
        "print(time.ctime())\n",
        "\n"
      ]
    },
    {
      "cell_type": "code",
      "source": [
        "from google.colab import drive\n",
        "drive.mount('/content/drive')\n"
      ],
      "metadata": {
        "id": "e6hfgfb9q4wJ"
      },
      "execution_count": null,
      "outputs": []
    },
    {
      "cell_type": "code",
      "source": [
        "!ls \"/content/drive/My Drive/Colab Notebooks\""
      ],
      "metadata": {
        "id": "PrN_IAtusWOq"
      },
      "execution_count": null,
      "outputs": []
    },
    {
      "cell_type": "code",
      "source": [
        "import numpy as np\n",
        "from matplotlib import pyplot as plt\n",
        "\n",
        "y = np.random.randn(100)\n",
        "x = [x for x in range(len(y))]\n",
        "\n",
        "plt.plot(x, y, '-')\n",
        "plt.fill_between(x, y, 200, where = (y > 195), facecolor='g', alpha=0.6)\n",
        "\n",
        "plt.title(\"Sample Plot\")\n",
        "plt.show()\n"
      ],
      "metadata": {
        "id": "21SNJnl3si_i"
      },
      "execution_count": null,
      "outputs": []
    },
    {
      "cell_type": "code",
      "source": [
        "# @title Default title text\n",
        "name1 = \"james\" # @param {\"type\":\"string\",\"placeholder\":\"aaa\"}\n",
        "variable_name = 95 # @param {\"type\":\"slider\",\"min\":0,\"max\":100,\"step\":1}\n",
        "variable_name2 = \"1\" # @param [\"1\",\"2\",\"3\"]\n"
      ],
      "metadata": {
        "id": "Fsnkq8RctPkE"
      },
      "execution_count": null,
      "outputs": []
    },
    {
      "cell_type": "code",
      "source": [
        "print(name1)"
      ],
      "metadata": {
        "id": "vIUsjaJ0tix9"
      },
      "execution_count": null,
      "outputs": []
    },
    {
      "cell_type": "code",
      "source": [
        "#@title Default title text\n",
        "%%html\n",
        "<style>\n",
        "body {\n",
        "  background-color: #f2bcca;\n",
        "}\n",
        "</style>\n",
        "color = 'red' #@param [\"red\", \"green\", \"blue\"] print(color)\n",
        "<svg xmlns=\"https://www.w3.org/2000/svg\" viewBox=\"0 0 600 400\" width=\"400\" height=\"400\">\n",
        "   <rect x=\"10\" y=\"00\" width=\"300\" height=\"100\" rx=\"0\" style=\"fill:orange; stroke:black; fill-opacity:1.0\" />\n",
        "   <rect x=\"10\" y=\"100\" width=\"300\" height=\"100\" rx=\"0\" style=\"fill:white; stroke:black; fill-opacity:1.0;\" />\n",
        "   <rect x=\"10\" y=\"200\" width=\"300\" height=\"100\" rx=\"0\" style=\"fill:green; stroke:black; fill-opacity:1.0;\" />\n",
        "</svg>\n"
      ],
      "metadata": {
        "id": "b1OmzqKXvHk4"
      },
      "execution_count": null,
      "outputs": []
    },
    {
      "cell_type": "code",
      "source": [
        "cd /content/drive/MyDrive"
      ],
      "metadata": {
        "id": "Oyy3yk5bxers"
      },
      "execution_count": null,
      "outputs": []
    },
    {
      "cell_type": "code",
      "source": [
        "with open('1.txt', 'r') as file:\n",
        "    contents = file.read()\n",
        "    print(contents)\n"
      ],
      "metadata": {
        "id": "R_gXuWbmwDyg"
      },
      "execution_count": null,
      "outputs": []
    },
    {
      "cell_type": "code",
      "source": [
        "with open('example.txt', 'a') as file:\n",
        "    file.write('\\nThis is some example text.')\n"
      ],
      "metadata": {
        "id": "2YPCZDDHx7v-"
      },
      "execution_count": null,
      "outputs": []
    },
    {
      "cell_type": "code",
      "source": [
        "import ipywidgets as widgets\n",
        "from IPython.display import display\n",
        "button = widgets.Button(description=\"Click Me!\")\n",
        "output = widgets.Output()\n",
        "\n",
        "def on_button_clicked(b):\n",
        "  # Display the message within the output widget.\n",
        "  with output:\n",
        "    with open('/content/drive/My Drive/1.txt', 'r') as file:\n",
        "      contents = file.read()\n",
        "      print(contents)\n",
        "\n",
        "button.on_click(on_button_clicked)\n",
        "display(button, output)\n"
      ],
      "metadata": {
        "id": "5cpalekNylaA"
      },
      "execution_count": null,
      "outputs": []
    },
    {
      "cell_type": "code",
      "source": [
        "import ipywidgets as widgets\n",
        "slider = widgets.IntSlider(value=5, max=10)\n",
        "display(slider)\n",
        "\n"
      ],
      "metadata": {
        "id": "VBNFzcYSzBKJ"
      },
      "execution_count": null,
      "outputs": []
    },
    {
      "cell_type": "markdown",
      "source": [
        "**Targil kita**\n",
        "\n"
      ],
      "metadata": {
        "id": "AQWvikdezwoy"
      }
    },
    {
      "cell_type": "code",
      "source": [
        "with open('Students.txt', 'w') as file:\n",
        "    file.write('Eli Rubinov Eli.Rubinov@e.braude.ac.il.\\nTony Hawk Tony.hawk@e.braude.ac.il\\nTony Montana Tony.Montana@e.braude.ac.il')\n"
      ],
      "metadata": {
        "id": "DBcJG6npzz46"
      },
      "execution_count": null,
      "outputs": []
    },
    {
      "cell_type": "code",
      "source": [
        "with open('students.txt', 'r') as file:\n",
        "    contents = file.read()\n",
        "    print(contents)\n",
        "    #students_cont=contents.split()\n",
        "    #print(students_cont)"
      ],
      "metadata": {
        "id": "lWGXzuzv4bb9"
      },
      "execution_count": null,
      "outputs": []
    },
    {
      "cell_type": "code",
      "source": [
        "import ipywidgets as widgets\n",
        "from IPython.display import display, clear_output\n",
        "\n",
        "# קריאת נתונים מהקובץ students.txt\n",
        "file_path = \"students.txt\"\n",
        "\n",
        "def read_students():\n",
        "    students = {}\n",
        "    with open(file_path, \"r\") as f:\n",
        "        for line in f:\n",
        "            parts = [p.strip() for p in line.strip().split(\",\")]  # הסרת רווחים\n",
        "            student_info = {}\n",
        "\n",
        "            current_key = None\n",
        "            for part in parts:\n",
        "                if \":\" in part:  # בדיקה אם זה שדה חדש\n",
        "                    key, value = part.split(\":\", 1)\n",
        "                    current_key = key.strip().lower()\n",
        "                    student_info[current_key] = value.strip()\n",
        "                else:\n",
        "                    # אם זה לא שדה חדש וזה חלק מהקורסים, נוסיף אותו לרשימה\n",
        "                    if current_key == \"courses\":\n",
        "                        student_info[current_key] += f\", {part.strip()}\"\n",
        "\n",
        "            # הפיכת הקורסים לרשימה\n",
        "            if \"courses\" in student_info:\n",
        "                student_info[\"courses\"] = [course.strip() for course in student_info[\"courses\"].split(\",\")]\n",
        "\n",
        "            if \"name\" in student_info:\n",
        "                name = student_info[\"name\"]\n",
        "                students[name] = student_info\n",
        "                students[name][\"favorite program\"] = \"\"  # ברירת מחדל לתוכנית אהובה\n",
        "            else:\n",
        "                print(f\"⚠ שורה לא תקינה בקובץ: {line}\")  # הדפסה למעקב אחר בעיות\n",
        "\n",
        "    return students\n",
        "\n",
        "students_dict = read_students()\n",
        "print(f\"📌 Loaded Students: {students_dict}\")  # Debugging\n",
        "\n",
        "# יצירת Dropdown עם שמות הסטודנטים\n",
        "dropdown = widgets.Dropdown(\n",
        "    options=list(students_dict.keys()) if students_dict else [\"No students found\"],\n",
        "    description=\"Student:\",\n",
        ")\n",
        "\n",
        "# יצירת תיבות טקסט להצגת נתוני הסטודנט\n",
        "email_box = widgets.Text(description=\"Email:\", disabled=True)\n",
        "courses_box = widgets.Text(description=\"Courses:\", disabled=True)\n",
        "link_box = widgets.Text(description=\"Link:\", disabled=True)\n",
        "fav_prog_box = widgets.Text(description=\"Favorite Program:\")\n",
        "\n",
        "# כפתור לעדכון התוכנית האהובה\n",
        "update_button = widgets.Button(description=\"Update\")\n",
        "output = widgets.Output()\n",
        "\n",
        "# עדכון השדות בעת בחירת סטודנט\n",
        "def update_fields(change):\n",
        "    student_name = dropdown.value\n",
        "    if student_name not in students_dict:\n",
        "        return\n",
        "\n",
        "    student = students_dict[student_name]\n",
        "\n",
        "    email_box.value = student.get(\"email\", \"N/A\")\n",
        "\n",
        "    # הצגת רשימת הקורסים בצורה תקינה\n",
        "    courses_box.value = \", \".join(student.get(\"courses\", [])) if isinstance(student.get(\"courses\"), list) else student.get(\"courses\", \"N/A\")\n",
        "\n",
        "    link_box.value = student.get(\"link\", \"N/A\")\n",
        "    fav_prog_box.value = student.get(\"favorite program\", \"\")\n",
        "\n",
        "dropdown.observe(update_fields, names=\"value\")\n",
        "\n",
        "# פונקציה לעדכון המידע בקובץ\n",
        "def update_file(b):\n",
        "    student_name = dropdown.value\n",
        "    favorite_program = fav_prog_box.value.strip()\n",
        "\n",
        "    if not favorite_program:\n",
        "        return  # לא לעדכן אם השדה ריק\n",
        "\n",
        "    students_dict[student_name][\"favorite program\"] = favorite_program  # עדכון מבנה הנתונים\n",
        "\n",
        "    with open(file_path, \"a\") as f:\n",
        "        f.write(f\"\\nName:{student_name}, Email:{students_dict[student_name]['email']}, Courses:{', '.join(students_dict[student_name]['courses'])}, Link:{students_dict[student_name]['link']}, Favorite Program:{favorite_program}\")\n",
        "\n",
        "    with output:\n",
        "        clear_output()\n",
        "        print(f\"✅ Updated {student_name} with Favorite Program: {favorite_program}\")\n",
        "\n",
        "update_button.on_click(update_file)\n",
        "\n",
        "# הצגת הטופס\n",
        "display(dropdown, email_box, courses_box, link_box, fav_prog_box, update_button, output)\n"
      ],
      "metadata": {
        "id": "yce1dVtbI2SY"
      },
      "execution_count": null,
      "outputs": []
    },
    {
      "cell_type": "code",
      "source": [
        "import ipywidgets as widgets\n",
        "from IPython.display import display, clear_output\n",
        "\n",
        "file_path = \"students.txt\"\n",
        "\n",
        "def read_students():\n",
        "    students = {}\n",
        "    with open(file_path, \"r\") as f:\n",
        "        for line in f:\n",
        "            parts = [p.strip() for p in line.strip().split(\",\")]\n",
        "            student_info = {k.strip().lower(): v.strip() for p in parts if \":\" in p for k, v in [p.split(\":\", 1)]}\n",
        "            if \"name\" in student_info:\n",
        "                student_info[\"courses\"] = student_info.get(\"courses\", \"\").split(\", \")\n",
        "                students[student_info[\"name\"]] = student_info\n",
        "                students[student_info[\"name\"]].setdefault(\"favorite program\", \"\")\n",
        "    return students\n",
        "\n",
        "students_dict = read_students()\n",
        "\n",
        "dropdown = widgets.Dropdown(options=list(students_dict) or [\"No students\"], description=\"Student:\")\n",
        "email_box = widgets.Text(description=\"Email:\", disabled=True)\n",
        "courses_box = widgets.Text(description=\"Courses:\", disabled=True)\n",
        "link_box = widgets.Text(description=\"Link:\", disabled=True)\n",
        "fav_prog_box = widgets.Text(description=\"Favorite Program:\")\n",
        "update_button = widgets.Button(description=\"Update\")\n",
        "output = widgets.Output()\n",
        "\n",
        "def update_fields(change):\n",
        "    student = students_dict.get(dropdown.value, {})\n",
        "    email_box.value = student.get(\"email\", \"N/A\")\n",
        "    courses_box.value = \", \".join(student.get(\"courses\", []))\n",
        "    link_box.value = student.get(\"link\", \"N/A\")\n",
        "    fav_prog_box.value = student.get(\"favorite program\", \"\")\n",
        "\n",
        "dropdown.observe(update_fields, names=\"value\")\n",
        "\n",
        "def update_file(b):\n",
        "    student_name = dropdown.value\n",
        "    if student_name in students_dict and fav_prog_box.value.strip():\n",
        "        students_dict[student_name][\"favorite program\"] = fav_prog_box.value.strip()\n",
        "        with open(file_path, \"w\") as f:\n",
        "            for s in students_dict.values():\n",
        "                f.write(f\"Name:{s['name']}, Email:{s.get('email', 'N/A')}, Courses:{', '.join(s.get('courses', []))}, Link:{s.get('link', 'N/A')}, Favorite Program:{s.get('favorite program', '')}\\n\")\n",
        "        with output:\n",
        "            clear_output()\n",
        "            print(f\"✅ Updated {student_name}\")\n",
        "\n",
        "update_button.on_click(update_file)\n",
        "\n",
        "display(dropdown, email_box, courses_box, link_box, fav_prog_box, update_button, output)\n"
      ],
      "metadata": {
        "id": "PBki9tpTKB94"
      },
      "execution_count": null,
      "outputs": []
    }
  ]
}