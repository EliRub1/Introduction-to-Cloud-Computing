{
  "nbformat": 4,
  "nbformat_minor": 0,
  "metadata": {
    "colab": {
      "provenance": [],
      "authorship_tag": "ABX9TyP00oOOukHbD8jTWlTsiDCr",
      "include_colab_link": true
    },
    "kernelspec": {
      "name": "python3",
      "display_name": "Python 3"
    },
    "language_info": {
      "name": "python"
    }
  },
  "cells": [
    {
      "cell_type": "markdown",
      "metadata": {
        "id": "view-in-github",
        "colab_type": "text"
      },
      "source": [
        "<a href=\"https://colab.research.google.com/github/EliRub1/Introduction-to-Cloud-Computing/blob/main/ItCC_Tut2.ipynb\" target=\"_parent\"><img src=\"https://colab.research.google.com/assets/colab-badge.svg\" alt=\"Open In Colab\"/></a>"
      ]
    },
    {
      "cell_type": "code",
      "execution_count": null,
      "metadata": {
        "id": "c43lZGrRob_1"
      },
      "outputs": [],
      "source": [
        "import json\n",
        "print(\"Dictionary: \", json.dumps({\"name\": \"John\", \"age\": 30}))\n",
        "print(\"List:       \", json.dumps([\"apple\", \"bananas\"]))\n",
        "print(\"Tuple:      \", json.dumps((\"apple\", \"bananas\")))\n",
        "print(\"String:     \", json.dumps(\"hello\"))\n",
        "print(\"Integer:    \", json.dumps(42))\n",
        "print(\"Float:      \", json.dumps(31.76))\n",
        "print(\"True:       \", json.dumps(True))\n",
        "print(\"False:      \", json.dumps(False))\n",
        "print(\"None:       \", json.dumps(None))\n"
      ]
    },
    {
      "cell_type": "code",
      "source": [
        "import json\n",
        "json_data = '{\"acronym\": \"BLD\", \"name\": \"Boulder Colorado\", \\\n",
        "              \"latitude\": 40.00, \"longitude\": -105.25}'\n",
        "python_obj = json.loads(json_data)\n",
        "print(\"Name:     \", python_obj[\"name\"])\n",
        "print(\"Acronym:  \", python_obj[\"acronym\"])\n",
        "print(\"Latitude: \", python_obj[\"latitude\"])\n",
        "print(\"Latitude: \", python_obj[\"longitude\"])\n",
        "\n",
        "print()\n",
        "print(json.dumps(python_obj)) # back to json\n",
        "\n",
        "print()\n",
        "print(json.dumps(python_obj, sort_keys=True, indent=4))# back to json+ sort keys by a to z + do 4 indents(הזחות)\n"
      ],
      "metadata": {
        "id": "zUsO8CzdrjWE"
      },
      "execution_count": null,
      "outputs": []
    },
    {
      "cell_type": "code",
      "source": [
        "import json\n",
        "array = '{\"drinks\": [\"coffee\", \"tea\", \"water\"]}'\n",
        "print(\"json:\",array)#print json file\n",
        "print()\n",
        "print()\n",
        "data = json.loads(array)#load= json to python\n",
        "\n",
        "print(\"python:\",data)#print the python arr\n",
        "print()\n",
        "\n",
        "print(json.dumps(data, sort_keys=True, indent=4))#turn to json again and print sorted+indented\n",
        "print()\n",
        "for element in data[\"drinks\"]:\n",
        "    print(element)\n"
      ],
      "metadata": {
        "id": "SuRjEo3yuudB"
      },
      "execution_count": null,
      "outputs": []
    },
    {
      "cell_type": "code",
      "source": [
        "import json\n",
        "json_string = \"\"\"\n",
        "{\n",
        "    \"researcher\": {\n",
        "        \"name\": \"Ford Prefect\",\n",
        "        \"species\": \"Betelgeusian\",\n",
        "        \"relatives\": [\n",
        "            {\n",
        "                \"name\": \"Zaphod Beeblebrox\",\n",
        "                \"species\": \"Betelgeusian\"\n",
        "            }\n",
        "        ]\n",
        "    }\n",
        "}\n",
        "\"\"\"\n",
        "data = json.loads(json_string)\n",
        "print(data)\n",
        "print('\\n')\n",
        "print(json.dumps(data, sort_keys=True, indent=4))\n",
        "\n"
      ],
      "metadata": {
        "id": "4sWiUFVay8bR"
      },
      "execution_count": null,
      "outputs": []
    },
    {
      "cell_type": "code",
      "source": [
        "import json\n",
        "from google.colab import drive\n",
        "drive.mount('/content/drive')\n",
        "\n",
        "x = {\n",
        "  \"name\": \"John\",\n",
        "  \"age\": 30,\n",
        "  \"married\": True,\n",
        "  \"divorced\": False,\n",
        "  \"children\": (\"Ann\",\"Billy\"),\n",
        "  \"pets\": None,\n",
        "  \"cars\": [\n",
        "    {\"model\": \"BMW 230\", \"mpg\": 27.5},\n",
        "    {\"model\": \"Ford Edge\", \"mpg\": 24.1}\n",
        "  ]\n",
        "}\n",
        "\n",
        "with open('/content/drive/My Drive/s2.json', \"w\") as fid:\n",
        "     json.dump(x, fid)"
      ],
      "metadata": {
        "id": "0cGaD7d6zqdf"
      },
      "execution_count": null,
      "outputs": []
    },
    {
      "cell_type": "code",
      "source": [
        "with open('/content/drive/My Drive/s2.json', \"r\") as fid:\n",
        "     z = json.load(fid)\n",
        "\n",
        "print(z)\n",
        "for key in z:\n",
        "    print(key+\":\\t\", z[key])\n"
      ],
      "metadata": {
        "id": "mX9GvcrC0HlA"
      },
      "execution_count": null,
      "outputs": []
    },
    {
      "cell_type": "code",
      "source": [
        "%%writefile apod.json\n",
        "{\n",
        "    \"media_type\": \"image\",\n",
        "    \"copyright\": \"Yin Hao\",\n",
        "    \"date\": \"2018-10-30\",\n",
        "    \"url\": \"https://apod.nasa.gov/apod/image/1810/Orionids_Hao_960.jpg\",\n",
        "    \"explanation\": \"Meteors have been shooting out from the constellation of Orion. This was expected, as October is the time of year for the Orionids Meteor Shower.  Pictured here, over two dozen meteors were caught in successively added exposures last October over Wulan Hada volcano in Inner Mongolia, China. The featured image shows multiple meteor streaks that can all be connected to a single small region on the sky called the radiant, here visible just above and to the left of the belt of Orion, The Orionids meteors started as sand sized bits expelled from Comet Halley during one of its trips to the inner Solar System. Comet Halley is actually responsible for two known meteor showers, the other known as the Eta Aquarids and visible every May. An Orionids image featured on APOD one year ago today from the same location shows the same car. Next month, the Leonids Meteor Shower from Comet Tempel-Tuttle should also result in some bright meteor streaks. Follow APOD on: Facebook, Instagram, Reddit, or Twitter\",\n",
        "    \"hdurl\": \"https://apod.nasa.gov/apod/image/1810/Orionids_Hao_2324.jpg\",\n",
        "    \"title\": \"Orionids Meteors over Inner Mongolia\",\n",
        "    \"service_version\": \"v1\"\n",
        "}\n",
        "\n"
      ],
      "metadata": {
        "id": "vE198mll1B-h"
      },
      "execution_count": null,
      "outputs": []
    },
    {
      "cell_type": "code",
      "source": [
        "# Read the file\n",
        "with open(\"apod.json\", \"r\") as f:\n",
        "    json_text = f.read()\n",
        "# Decode the JSON string into a Python dictionary.\n",
        "apod_dict = json.loads(json_text)\n",
        "print(apod_dict['explanation'])\n",
        "# Encode the Python dictionary into a JSON string.\n",
        "new_json_string = json.dumps(apod_dict, indent=6)\n",
        "print(new_json_string)\n",
        "new_json_string = json.dumps(apod_dict, indent=6, sort_keys=True)\n",
        "print(new_json_string)\n"
      ],
      "metadata": {
        "id": "3Ay2Yb3U1LJ5"
      },
      "execution_count": null,
      "outputs": []
    },
    {
      "cell_type": "code",
      "source": [
        "import json\n",
        "\n",
        "jsonData = '{\"ID\":\"123\", \"Name\": \"Hamza\"}'\n",
        "\n",
        "data = json.loads(jsonData)\n",
        "\n",
        "print(data)\n",
        "\n",
        "newData = {\"DOB\": \"22-10-2001\"}\n",
        "\n",
        "data.update(newData)\n",
        "\n",
        "print(data)"
      ],
      "metadata": {
        "id": "l5_mHLi62LDc"
      },
      "execution_count": null,
      "outputs": []
    },
    {
      "cell_type": "code",
      "source": [
        "import json\n",
        "\n",
        "studentsList = []\n",
        "print(\"Started Reading JSON file which contains multiple JSON document\")\n",
        "with open('/content/drive/My Drive/students1.txt') as f:\n",
        "    for jsonObj in f:\n",
        "        studentDict = json.loads(jsonObj)\n",
        "        studentsList.append(studentDict)\n",
        "print(studentsList)\n",
        "print()\n",
        "print(\"Printing each JSON Decoded Object\")\n",
        "for student in studentsList:\n",
        "    print(student[\"id\"], student[\"name\"], student[\"class\"], student[\"email\"])\n",
        "\n"
      ],
      "metadata": {
        "id": "JJ30X0CZ245X"
      },
      "execution_count": null,
      "outputs": []
    },
    {
      "cell_type": "code",
      "source": [
        "import urllib\n",
        "url = \"https://api.nasa.gov/planetary/apod?api_key=DEMO_KEY\"\n",
        "with urllib.request.urlopen(url) as page:\n",
        "     page_content = page.read()\n",
        "# To turn it into a string, for example, we use the decode method:\n",
        "page_content.decode('utf-8')\n",
        "# Process the data with JSON\n",
        "json_page = json.loads(page_content)\n",
        "# print the keys\n",
        "for x in json_page:\n",
        "    print(x)\n",
        "# print the keys\n",
        "for x in json_page:\n",
        "    print(x+\" -->\", json_page[x])\n",
        "    print()\n",
        "from pprint import pprint\n",
        "pprint(json_page)\n",
        "%matplotlib inline\n",
        "from skimage import io\n",
        "\n",
        "io.imshow(io.imread(json_page[\"url\"]))\n",
        "io.show()\n",
        "io.imshow(io.imread(json_page[\"hdurl\"]))\n",
        "io.show()\n",
        "\n"
      ],
      "metadata": {
        "id": "HCLxe0mG3vnW"
      },
      "execution_count": null,
      "outputs": []
    },
    {
      "cell_type": "code",
      "source": [
        "import json\n",
        "import ipywidgets as widgets\n",
        "\n",
        "studentsList = []\n",
        "print(\"looking for students.....\")\n",
        "with open('/content/drive/My Drive/studentsTir2.txt') as f:\n",
        "    for jsonObj in f:\n",
        "        studentDict = json.loads(jsonObj)\n",
        "        studentsList.append(studentDict)\n",
        "print(studentsList)\n",
        "print()\n",
        "print(\"Printing each JSON Decoded Object\")\n",
        "for student in studentsList:\n",
        "    print(student[\"id\"], student[\"name\"], student[\"class\"], student[\"email\"], student[\"fav course\"])\n",
        "\n",
        "print()\n",
        "print()\n",
        "\n",
        "student_names = [student[\"name\"] for student in studentsList]\n",
        "\n",
        "dropdown = widgets.Dropdown(\n",
        "    options=student_names,\n",
        "    description=\"Student:\"\n",
        ")\n",
        "\n",
        "# הצגת ה-widget\n",
        "display(dropdown)\n",
        "\n",
        "# יצירת תיבות טקסט להצגת נתוני הסטודנט\n",
        "id_box = widgets.Text(description=\"ID:\", disabled=True)\n",
        "email_box = widgets.Text(description=\"Email:\", disabled=True)\n",
        "courses_box = widgets.Text(description=\"Courses:\", disabled=True)\n",
        "link_box = widgets.Text(description=\"Link:\", disabled=True)\n",
        "fav_prog_box = widgets.Text(description=\"Favorite Program:\")\n",
        "\n",
        "# כפתור לעדכון התוכנית האהובה\n",
        "update_button = widgets.Button(description=\"Update\")\n",
        "output = widgets.Output()\n",
        "\n",
        "def update_fields(change):\n",
        "    student_name = dropdown.value\n",
        "    if student_name not in studentsList:\n",
        "        return\n",
        "\n",
        "    student = studentsList[student_name]\n",
        "\n",
        "    email_box.value = student.get(\"email\", \"N/A\")\n",
        "\n",
        "    # הצגת רשימת הקורסים בצורה תקינה\n",
        "    courses_box.value = \", \".join(student.get(\"courses\", [])) if isinstance(student.get(\"courses\"), list) else student.get(\"courses\", \"N/A\")\n",
        "\n",
        "    link_box.value = student.get(\"link\", \"N/A\")\n",
        "    fav_prog_box.value = student.get(\"favorite program\", \"\")\n",
        "\n",
        "dropdown.observe(update_fields, names=\"value\")\n",
        "\n",
        "display(email_box,courses_box,link_box,fav_prog_box)"
      ],
      "metadata": {
        "id": "jUrSaohJ48Ey"
      },
      "execution_count": null,
      "outputs": []
    },
    {
      "cell_type": "code",
      "source": [
        "import json\n",
        "from google.colab import drive\n",
        "drive.mount('/content/drive')"
      ],
      "metadata": {
        "id": "Wr2zpKYH9JUR"
      },
      "execution_count": null,
      "outputs": []
    },
    {
      "cell_type": "code",
      "source": [
        "import json\n",
        "import ipywidgets as widgets\n",
        "from IPython.display import display\n",
        "\n",
        "studentsList = []\n",
        "file_path = '/content/drive/My Drive/studentsTir2.txt'\n",
        "\n",
        "print(\"looking for students.....\")\n",
        "with open(file_path, 'r') as f:\n",
        "    for jsonObj in f:\n",
        "        studentDict = json.loads(jsonObj)\n",
        "        studentsList.append(studentDict)\n",
        "\n",
        "print(studentsList)\n",
        "print(\"\\nPrinting each JSON Decoded Object\")\n",
        "for student in studentsList:\n",
        "    print(student[\"id\"], student[\"name\"], student[\"class\"], student[\"email\"], student[\"fav link\"])\n",
        "\n",
        "student_names = [student[\"name\"] for student in studentsList]\n",
        "\n",
        "dropdown = widgets.Dropdown(\n",
        "    options=student_names,\n",
        "    description=\"Student:\"\n",
        ")\n",
        "\n",
        "id_box = widgets.Text(description=\"ID:\", disabled=False)\n",
        "email_box = widgets.Text(description=\"Email:\", disabled=False)\n",
        "courses_box = widgets.Text(description=\"Courses:\", disabled=False)\n",
        "link_box = widgets.Text(description=\"Link:\", disabled=False)\n",
        "fav_prog_box = widgets.Text(description=\"Favorite Program:\", disabled=False)  # פתוח לעריכה\n",
        "\n",
        "def update_student_info(change):\n",
        "    selected_name = change['new']\n",
        "    for student in studentsList:\n",
        "        if student[\"name\"] == selected_name:\n",
        "            id_box.value = str(student.get(\"id\", \"N/A\"))\n",
        "            email_box.value = str(student.get(\"email\", \"N/A\"))\n",
        "            courses_box.value = str(student.get(\"class\", \"N/A\"))\n",
        "            link_box.value = str(student.get(\"fav link\", \"N/A\"))\n",
        "            fav_prog_box.value = str(student.get(\"fav program\", \"\"))\n",
        "            break\n",
        "\n",
        "dropdown.observe(update_student_info, names='value')\n",
        "\n",
        "def update_file(_):\n",
        "    selected_name = dropdown.value\n",
        "    new_fav_program = fav_prog_box.value\n",
        "    new_id_box = id_box.value\n",
        "    new_email_box = email_box.value\n",
        "    new_courses_box = courses_box.value\n",
        "    new_link_box=link_box.value\n",
        "\n",
        "    for student in studentsList:\n",
        "        if student[\"name\"] == selected_name:\n",
        "            student[\"fav program\"] = new_fav_program\n",
        "            student[\"id\"] =new_id_box\n",
        "            student[\"email\"] =new_email_box\n",
        "            student[\"class\"] =new_courses_box\n",
        "            student[\"fav link\"] =new_link_box\n",
        "\n",
        "\n",
        "    with open(file_path, 'w') as f:\n",
        "        for student in studentsList:\n",
        "            json.dump(student, f)\n",
        "            f.write(\"\\n\")\n",
        "\n",
        "    print(f\"Updated favorite program for {selected_name} to '{new_fav_program}'\")\n",
        "\n",
        "update_button = widgets.Button(description=\"Update\")\n",
        "update_button.on_click(update_file)\n",
        "\n",
        "display(dropdown, id_box, email_box, courses_box, link_box, fav_prog_box, update_button)\n",
        "\n",
        "# הפעלת הפונקציה בהתחלה כדי להציג את הנתונים של הסטודנט הראשון\n",
        "update_student_info({'new': student_names[0]})\n"
      ],
      "metadata": {
        "id": "wccmT64STWt1"
      },
      "execution_count": null,
      "outputs": []
    }
  ]
}