{
  "cells": [
    {
      "cell_type": "markdown",
      "metadata": {
        "id": "view-in-github",
        "colab_type": "text"
      },
      "source": [
        "<a href=\"https://colab.research.google.com/github/EliRub1/Introduction-to-Cloud-Computing/blob/main/ItCC_Tut5.ipynb\" target=\"_parent\"><img src=\"https://colab.research.google.com/assets/colab-badge.svg\" alt=\"Open In Colab\"/></a>"
      ]
    },
    {
      "cell_type": "code",
      "execution_count": null,
      "metadata": {
        "id": "e-SrjHbxTQW2"
      },
      "outputs": [],
      "source": [
        "!pip install firebase"
      ]
    },
    {
      "cell_type": "code",
      "execution_count": null,
      "metadata": {
        "id": "h3ReJnrcU-MF"
      },
      "outputs": [],
      "source": [
        "from firebase import firebase\n",
        "FBconn = firebase.FirebaseApplication('https://test-41bb0-default-rtdb.firebaseio.com/',None)\n",
        "while True:\n",
        "  temperature = int (input (\"what is the temperature?\"))\n",
        "  data_to_upload = {\n",
        "      'Temp' : temperature\n",
        "  }\n",
        "  result = FBconn.post('/myTest1/',data_to_upload)\n",
        "  print(result)"
      ]
    },
    {
      "cell_type": "code",
      "execution_count": null,
      "metadata": {
        "id": "CWx99Jt9UvKF"
      },
      "outputs": [],
      "source": [
        "from firebase import firebase\n",
        "\n",
        "firebase = firebase.FirebaseApplication('https://test-41bb0-default-rtdb.firebaseio.com/', None)\n",
        "result = firebase.get('/myTest1/', None)\n",
        "print(result)"
      ]
    },
    {
      "cell_type": "code",
      "execution_count": null,
      "metadata": {
        "id": "Fs-uXN5uVjSN"
      },
      "outputs": [],
      "source": [
        "import json\n",
        "from firebase import firebase\n",
        "FBconn = firebase.FirebaseApplication('https://test-41bb0-default-rtdb.firebaseio.com/',None)\n",
        "res=FBconn.get('/myTest1/',None)\n",
        "\n",
        "for key in res:\n",
        "    print(key+\":\\t\", res[key])"
      ]
    },
    {
      "cell_type": "code",
      "execution_count": null,
      "metadata": {
        "colab": {
          "background_save": true
        },
        "id": "LXzq36KfV7XU"
      },
      "outputs": [],
      "source": [
        "from firebase import firebase\n",
        "import time\n",
        "\n",
        "# Initialize Firebase connection\n",
        "FBconn = firebase.FirebaseApplication('https://test-41bb0-default-rtdb.firebaseio.com/', None)\n",
        "\n",
        "def get_all_records():\n",
        "    \"\"\"Retrieve all temperature records\"\"\"\n",
        "    return FBconn.get('/myTest1/', None)\n",
        "\n",
        "def update_temperature(record_id, new_temp):\n",
        "    \"\"\"Update an existing temperature record\"\"\"\n",
        "    return FBconn.put('/myTest1/' + record_id, 'Temp', new_temp)\n",
        "\n",
        "def delete_record(record_id):\n",
        "    \"\"\"Delete a temperature record\"\"\"\n",
        "    return FBconn.delete('/myTest1/', record_id)\n",
        "\n",
        "def display_records():\n",
        "    \"\"\"Display all temperature records\"\"\"\n",
        "    records = get_all_records()\n",
        "    if records:\n",
        "        print(\"\\nCurrent Records:\")\n",
        "        for record_id, data in records.items():\n",
        "            print(f\"ID: {record_id} - Temperature: {data['Temp']}°C\")\n",
        "    else:\n",
        "        print(\"\\nNo records found\")\n",
        "\n",
        "while True:\n",
        "    print(\"\\nTemperature Tracker Menu:\")\n",
        "    print(\"1. Add new temperature\")\n",
        "    print(\"2. Update existing temperature\")\n",
        "    print(\"3. Delete temperature record\")\n",
        "    print(\"4. View all records\")\n",
        "    print(\"5. Exit\")\n",
        "\n",
        "    choice = input(\"\\nEnter your choice (1-5): \")\n",
        "\n",
        "    if choice == '1':\n",
        "        # Add new temperature\n",
        "        try:\n",
        "            temperature = int(input(\"What is the temperature? \"))\n",
        "            data_to_upload = {\n",
        "                'Temp': temperature,\n",
        "                'timestamp': time.time()  # Adding timestamp for better tracking\n",
        "            }\n",
        "            result = FBconn.post('/myTest1/', data_to_upload)\n",
        "            print(f\"Temperature added successfully! Record ID: {result['name']}\")\n",
        "        except ValueError:\n",
        "            print(\"Please enter a valid number for temperature\")\n",
        "\n",
        "    elif choice == '2':\n",
        "        # Update existing temperature\n",
        "        display_records()\n",
        "        record_id = input(\"\\nEnter the record ID to update: \")\n",
        "        try:\n",
        "            new_temp = int(input(\"Enter the new temperature: \"))\n",
        "            result = update_temperature(record_id, new_temp)\n",
        "            if result:\n",
        "                print(\"Temperature updated successfully!\")\n",
        "            else:\n",
        "                print(\"Failed to update temperature. Check if the ID exists.\")\n",
        "        except ValueError:\n",
        "            print(\"Please enter a valid number for temperature\")\n",
        "\n",
        "    elif choice == '3':\n",
        "        # Delete temperature record\n",
        "        display_records()\n",
        "        record_id = input(\"\\nEnter the record ID to delete: \")\n",
        "        result = delete_record(record_id)\n",
        "        if result is None:\n",
        "            print(\"Record deleted successfully!\")\n",
        "        else:\n",
        "            print(\"Failed to delete record. Check if the ID exists.\")\n",
        "\n",
        "    elif choice == '4':\n",
        "        # View all records\n",
        "        display_records()\n",
        "\n",
        "    elif choice == '5':\n",
        "        print(\"Exiting program...\")\n",
        "        break\n",
        "\n",
        "    else:\n",
        "        print(\"Invalid choice. Please try again.\")\n"
      ]
    }
  ],
  "metadata": {
    "colab": {
      "provenance": [],
      "authorship_tag": "ABX9TyOpc7G3/3EEepXurPjS/zsj",
      "include_colab_link": true
    },
    "kernelspec": {
      "display_name": "Python 3",
      "name": "python3"
    },
    "language_info": {
      "name": "python"
    }
  },
  "nbformat": 4,
  "nbformat_minor": 0
}